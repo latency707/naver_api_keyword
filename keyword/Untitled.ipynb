{
 "cells": [
  {
   "cell_type": "code",
   "execution_count": 1,
   "id": "f2aae8d1",
   "metadata": {},
   "outputs": [
    {
     "name": "stderr",
     "output_type": "stream",
     "text": [
      "C:\\Users\\User\\anaconda3\\envs\\seven\\lib\\site-packages\\numpy\\_distributor_init.py:32: UserWarning: loaded more than 1 DLL from .libs:\n",
      "C:\\Users\\User\\anaconda3\\envs\\seven\\lib\\site-packages\\numpy\\.libs\\libopenblas.NOIJJG62EMASZI6NYURL6JBKM4EVBGM7.gfortran-win_amd64.dll\n",
      "C:\\Users\\User\\anaconda3\\envs\\seven\\lib\\site-packages\\numpy\\.libs\\libopenblas.WCDJNK7YVMPZQ2ME2ZZHJJRJ3JIKNDB7.gfortran-win_amd64.dll\n",
      "C:\\Users\\User\\anaconda3\\envs\\seven\\lib\\site-packages\\numpy\\.libs\\libopenblas.XWYDX2IKJW2NMTWSFYNGFUWKQU3LYTCZ.gfortran-win_amd64.dll\n",
      "  stacklevel=1)\n"
     ]
    },
    {
     "ename": "NameError",
     "evalue": "name 'numpy' is not defined",
     "output_type": "error",
     "traceback": [
      "\u001b[1;31m---------------------------------------------------------------------------\u001b[0m",
      "\u001b[1;31mNameError\u001b[0m                                 Traceback (most recent call last)",
      "\u001b[1;32m~\\AppData\\Local\\Temp\\ipykernel_11608\\3650404308.py\u001b[0m in \u001b[0;36m<module>\u001b[1;34m\u001b[0m\n\u001b[0;32m      1\u001b[0m \u001b[1;32mimport\u001b[0m \u001b[0mnumpy\u001b[0m \u001b[1;32mas\u001b[0m \u001b[0mnp\u001b[0m\u001b[1;33m\u001b[0m\u001b[1;33m\u001b[0m\u001b[0m\n\u001b[0;32m      2\u001b[0m \u001b[1;33m\u001b[0m\u001b[0m\n\u001b[1;32m----> 3\u001b[1;33m \u001b[0mnumpy\u001b[0m \u001b[1;33m-\u001b[0m\u001b[1;33m-\u001b[0m\u001b[0mversion\u001b[0m\u001b[1;33m\u001b[0m\u001b[1;33m\u001b[0m\u001b[0m\n\u001b[0m",
      "\u001b[1;31mNameError\u001b[0m: name 'numpy' is not defined"
     ]
    }
   ],
   "source": [
    "import numpy as np\n",
    "\n",
    "numpy --version"
   ]
  },
  {
   "cell_type": "code",
   "execution_count": 2,
   "id": "0b866ca6",
   "metadata": {},
   "outputs": [
    {
     "name": "stdout",
     "output_type": "stream",
     "text": [
      "Collecting numpy==1.19.2\n",
      "  Using cached numpy-1.19.2-cp37-cp37m-win_amd64.whl (12.9 MB)\n",
      "Installing collected packages: numpy\n",
      "  Attempting uninstall: numpy\n",
      "    Found existing installation: numpy 1.21.5\n"
     ]
    },
    {
     "name": "stderr",
     "output_type": "stream",
     "text": [
      "WARNING: Error parsing requirements for numpy: [Errno 2] No such file or directory: 'c:\\\\users\\\\user\\\\anaconda3\\\\envs\\\\seven\\\\lib\\\\site-packages\\\\numpy-1.21.5.dist-info\\\\METADATA'\n",
      "    WARNING: No metadata found in c:\\users\\user\\anaconda3\\envs\\seven\\lib\\site-packages\n",
      "    WARNING: No metadata found in c:\\users\\user\\anaconda3\\envs\\seven\\lib\\site-packages\n",
      "    WARNING: No metadata found in c:\\users\\user\\anaconda3\\envs\\seven\\lib\\site-packages\n",
      "    WARNING: No metadata found in c:\\users\\user\\anaconda3\\envs\\seven\\lib\\site-packages\n",
      "    WARNING: No metadata found in c:\\users\\user\\anaconda3\\envs\\seven\\lib\\site-packages\n",
      "    WARNING: No metadata found in c:\\users\\user\\anaconda3\\envs\\seven\\lib\\site-packages\n",
      "ERROR: Cannot uninstall numpy 1.21.5, RECORD file not found. You might be able to recover from this via: 'pip install --force-reinstall --no-deps numpy==1.21.5'.\n"
     ]
    }
   ],
   "source": [
    "!pip install numpy==1.19.2"
   ]
  },
  {
   "cell_type": "code",
   "execution_count": 3,
   "id": "4f3213fc",
   "metadata": {},
   "outputs": [
    {
     "name": "stdout",
     "output_type": "stream",
     "text": [
      "Found existing installation: numpy 1.21.5"
     ]
    },
    {
     "name": "stderr",
     "output_type": "stream",
     "text": [
      "WARNING: No metadata found in c:\\users\\user\\anaconda3\\envs\\seven\\lib\\site-packages\n",
      "WARNING: No metadata found in c:\\users\\user\\anaconda3\\envs\\seven\\lib\\site-packages\n",
      "WARNING: No metadata found in c:\\users\\user\\anaconda3\\envs\\seven\\lib\\site-packages\n",
      "WARNING: No metadata found in c:\\users\\user\\anaconda3\\envs\\seven\\lib\\site-packages\n",
      "WARNING: No metadata found in c:\\users\\user\\anaconda3\\envs\\seven\\lib\\site-packages\n",
      "WARNING: No metadata found in c:\\users\\user\\anaconda3\\envs\\seven\\lib\\site-packages\n",
      "ERROR: Cannot uninstall numpy 1.21.5, RECORD file not found. You might be able to recover from this via: 'pip install --force-reinstall --no-deps numpy==1.21.5'.\n"
     ]
    },
    {
     "name": "stdout",
     "output_type": "stream",
     "text": [
      "\n"
     ]
    }
   ],
   "source": [
    "!pip uninstall numpy"
   ]
  },
  {
   "cell_type": "code",
   "execution_count": 4,
   "id": "de8650ac",
   "metadata": {},
   "outputs": [
    {
     "name": "stdout",
     "output_type": "stream",
     "text": [
      "Collecting trash-cli\n",
      "  Downloading trash-cli-0.22.4.16.tar.gz (31 kB)\n",
      "  Preparing metadata (setup.py): started\n",
      "  Preparing metadata (setup.py): finished with status 'error'\n",
      "Note: you may need to restart the kernel to use updated packages.\n"
     ]
    },
    {
     "name": "stderr",
     "output_type": "stream",
     "text": [
      "  error: subprocess-exited-with-error\n",
      "  \n",
      "  python setup.py egg_info did not run successfully.\n",
      "  exit code: 1\n",
      "  \n",
      "  [8 lines of output]\n",
      "  Traceback (most recent call last):\n",
      "    File \"<string>\", line 36, in <module>\n",
      "    File \"<pip-setuptools-caller>\", line 34, in <module>\n",
      "    File \"C:\\Users\\User\\AppData\\Local\\Temp\\pip-install-w_y8htf9\\trash-cli_269ab02d598843f8a16441ca40c28c1c\\setup.py\", line 5, in <module>\n",
      "      from trashcli import trash, base_dir\n",
      "    File \"C:\\Users\\User\\AppData\\Local\\Temp\\pip-install-w_y8htf9\\trash-cli_269ab02d598843f8a16441ca40c28c1c\\trashcli\\trash.py\", line 5, in <module>\n",
      "      import pwd\n",
      "  ModuleNotFoundError: No module named 'pwd'\n",
      "  [end of output]\n",
      "  \n",
      "  note: This error originates from a subprocess, and is likely not a problem with pip.\n",
      "error: metadata-generation-failed\n",
      "\n",
      "Encountered error while generating package metadata.\n",
      "\n",
      "See above for output.\n",
      "\n",
      "note: This is an issue with the package mentioned above, not pip.\n",
      "hint: See above for details.\n"
     ]
    }
   ],
   "source": [
    "pip install trash-cli\n"
   ]
  },
  {
   "cell_type": "code",
   "execution_count": null,
   "id": "ff6a19a2",
   "metadata": {},
   "outputs": [],
   "source": []
  }
 ],
 "metadata": {
  "kernelspec": {
   "display_name": "Python [conda env:seven] *",
   "language": "python",
   "name": "conda-env-seven-py"
  },
  "language_info": {
   "codemirror_mode": {
    "name": "ipython",
    "version": 3
   },
   "file_extension": ".py",
   "mimetype": "text/x-python",
   "name": "python",
   "nbconvert_exporter": "python",
   "pygments_lexer": "ipython3",
   "version": "3.7.13"
  }
 },
 "nbformat": 4,
 "nbformat_minor": 5
}
